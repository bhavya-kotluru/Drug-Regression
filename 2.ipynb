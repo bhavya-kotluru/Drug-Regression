{
 "cells": [
  {
   "cell_type": "code",
   "execution_count": 1,
   "id": "b37c3669-1b5b-43ae-bf42-2517dda502e3",
   "metadata": {},
   "outputs": [],
   "source": [
    "import numpy as np\n",
    "import pandas as pd\n",
    "import os\n",
    "import matplotlib.pyplot as plt\n",
    "import seaborn as sns\n",
    "from sklearn.preprocessing import StandardScaler\n",
    "import warnings\n",
    "warnings.filterwarnings('ignore')"
   ]
  },
  {
   "cell_type": "code",
   "execution_count": 2,
   "id": "e7ae51d4-9195-41c9-b21d-a4246678862c",
   "metadata": {},
   "outputs": [],
   "source": [
    "df=pd.read_csv(r\"C:\\Users\\bhavya\\Desktop\\git\\python-2\\project\\Drug_Data.csv\")"
   ]
  },
  {
   "cell_type": "code",
   "execution_count": 3,
   "id": "ffadb80e-4978-4145-b6a9-c2e297648554",
   "metadata": {},
   "outputs": [
    {
     "data": {
      "text/html": [
       "<style type=\"text/css\">\n",
       "#T_5b97d_row0_col5 {\n",
       "  background-color: #504afc;\n",
       "  color: #f1f1f1;\n",
       "}\n",
       "#T_5b97d_row0_col6 {\n",
       "  background-color: #6826fe;\n",
       "  color: #f1f1f1;\n",
       "}\n",
       "#T_5b97d_row0_col7 {\n",
       "  background-color: #2489f5;\n",
       "  color: #f1f1f1;\n",
       "}\n",
       "#T_5b97d_row1_col5 {\n",
       "  background-color: #54f6cb;\n",
       "  color: #000000;\n",
       "}\n",
       "#T_5b97d_row1_col6 {\n",
       "  background-color: #6e1cff;\n",
       "  color: #f1f1f1;\n",
       "}\n",
       "#T_5b97d_row1_col7 {\n",
       "  background-color: #66fcc2;\n",
       "  color: #000000;\n",
       "}\n",
       "#T_5b97d_row2_col5 {\n",
       "  background-color: #ff2f18;\n",
       "  color: #f1f1f1;\n",
       "}\n",
       "#T_5b97d_row2_col6, #T_5b97d_row2_col7, #T_5b97d_row3_col5 {\n",
       "  background-color: #ff0000;\n",
       "  color: #f1f1f1;\n",
       "}\n",
       "#T_5b97d_row3_col6 {\n",
       "  background-color: #02b7eb;\n",
       "  color: #f1f1f1;\n",
       "}\n",
       "#T_5b97d_row3_col7 {\n",
       "  background-color: #ff8143;\n",
       "  color: #f1f1f1;\n",
       "}\n",
       "#T_5b97d_row4_col5, #T_5b97d_row4_col6, #T_5b97d_row4_col7 {\n",
       "  background-color: #8000ff;\n",
       "  color: #f1f1f1;\n",
       "}\n",
       "</style>\n",
       "<table id=\"T_5b97d\">\n",
       "  <thead>\n",
       "    <tr>\n",
       "      <th class=\"blank level0\" >&nbsp;</th>\n",
       "      <th id=\"T_5b97d_level0_col0\" class=\"col_heading level0 col0\" >Condition</th>\n",
       "      <th id=\"T_5b97d_level0_col1\" class=\"col_heading level0 col1\" >Drug</th>\n",
       "      <th id=\"T_5b97d_level0_col2\" class=\"col_heading level0 col2\" >Indication</th>\n",
       "      <th id=\"T_5b97d_level0_col3\" class=\"col_heading level0 col3\" >Type</th>\n",
       "      <th id=\"T_5b97d_level0_col4\" class=\"col_heading level0 col4\" >Reviews</th>\n",
       "      <th id=\"T_5b97d_level0_col5\" class=\"col_heading level0 col5\" >Effective</th>\n",
       "      <th id=\"T_5b97d_level0_col6\" class=\"col_heading level0 col6\" >EaseOfUse</th>\n",
       "      <th id=\"T_5b97d_level0_col7\" class=\"col_heading level0 col7\" >Satisfaction</th>\n",
       "      <th id=\"T_5b97d_level0_col8\" class=\"col_heading level0 col8\" >Information</th>\n",
       "    </tr>\n",
       "  </thead>\n",
       "  <tbody>\n",
       "    <tr>\n",
       "      <th id=\"T_5b97d_level0_row0\" class=\"row_heading level0 row0\" >0</th>\n",
       "      <td id=\"T_5b97d_row0_col0\" class=\"data row0 col0\" >Acute Bacterial Sinusitis</td>\n",
       "      <td id=\"T_5b97d_row0_col1\" class=\"data row0 col1\" >Levofloxacin</td>\n",
       "      <td id=\"T_5b97d_row0_col2\" class=\"data row0 col2\" >On Label</td>\n",
       "      <td id=\"T_5b97d_row0_col3\" class=\"data row0 col3\" >RX</td>\n",
       "      <td id=\"T_5b97d_row0_col4\" class=\"data row0 col4\" >994 Reviews</td>\n",
       "      <td id=\"T_5b97d_row0_col5\" class=\"data row0 col5\" >2.520000</td>\n",
       "      <td id=\"T_5b97d_row0_col6\" class=\"data row0 col6\" >3.010000</td>\n",
       "      <td id=\"T_5b97d_row0_col7\" class=\"data row0 col7\" >1.840000</td>\n",
       "      <td id=\"T_5b97d_row0_col8\" class=\"data row0 col8\" >\r\n",
       "\t\t\t\t\tLevofloxacin is used to treat a variety of bacterial infections. This is a generic drug. The average cash price for 10 Tablet(s), 500mg each of the generic (levofloxacin) is $172.99. You can buy levofloxacin at the discounted price of $47.08 by using the WebMDRx coupon, a savings of 73%. Even if this drug is covered by Medicare or your insurance, we recommend you compare prices. The WebMDRx coupon or cash price may be less than your co-pay.\r\n",
       "\t\t\t\t</td>\n",
       "    </tr>\n",
       "    <tr>\n",
       "      <th id=\"T_5b97d_level0_row1\" class=\"row_heading level0 row1\" >1</th>\n",
       "      <td id=\"T_5b97d_row1_col0\" class=\"data row1 col0\" >Acute Bacterial Sinusitis</td>\n",
       "      <td id=\"T_5b97d_row1_col1\" class=\"data row1 col1\" >Moxifloxacin</td>\n",
       "      <td id=\"T_5b97d_row1_col2\" class=\"data row1 col2\" >On Label</td>\n",
       "      <td id=\"T_5b97d_row1_col3\" class=\"data row1 col3\" >RX</td>\n",
       "      <td id=\"T_5b97d_row1_col4\" class=\"data row1 col4\" >755 Reviews</td>\n",
       "      <td id=\"T_5b97d_row1_col5\" class=\"data row1 col5\" >2.780000</td>\n",
       "      <td id=\"T_5b97d_row1_col6\" class=\"data row1 col6\" >3.000000</td>\n",
       "      <td id=\"T_5b97d_row1_col7\" class=\"data row1 col7\" >2.080000</td>\n",
       "      <td id=\"T_5b97d_row1_col8\" class=\"data row1 col8\" >\r\n",
       "\t\t\t\t\t This is a generic drug. The average cash price for 1 Bottle, 3ml of 0.5% each of the generic (moxifloxacin hcl) is $74.99. You can buy moxifloxacin hcl at the discounted price of $34.89 by using the WebMDRx coupon, a savings of 53%. Even if this drug is covered by Medicare or your insurance, we recommend you compare prices. The WebMDRx coupon or cash price may be less than your co-pay.\r\n",
       "\t\t\t\t</td>\n",
       "    </tr>\n",
       "    <tr>\n",
       "      <th id=\"T_5b97d_level0_row2\" class=\"row_heading level0 row2\" >2</th>\n",
       "      <td id=\"T_5b97d_row2_col0\" class=\"data row2 col0\" >Acute Bacterial Sinusitis</td>\n",
       "      <td id=\"T_5b97d_row2_col1\" class=\"data row2 col1\" >Azithromycin</td>\n",
       "      <td id=\"T_5b97d_row2_col2\" class=\"data row2 col2\" >On Label</td>\n",
       "      <td id=\"T_5b97d_row2_col3\" class=\"data row2 col3\" >RX</td>\n",
       "      <td id=\"T_5b97d_row2_col4\" class=\"data row2 col4\" >584 Reviews</td>\n",
       "      <td id=\"T_5b97d_row2_col5\" class=\"data row2 col5\" >3.210000</td>\n",
       "      <td id=\"T_5b97d_row2_col6\" class=\"data row2 col6\" >4.010000</td>\n",
       "      <td id=\"T_5b97d_row2_col7\" class=\"data row2 col7\" >2.570000</td>\n",
       "      <td id=\"T_5b97d_row2_col8\" class=\"data row2 col8\" >\r\n",
       "\t\t\t\t\tAzithromycin is an antibiotic (macrolide-type). This is a generic drug. The average cash price for 1 Disp Pack, 6 tablets each of the generic (azithromycin) is $32.10. You can buy azithromycin at the discounted price of $12.48 by using the WebMDRx coupon, a savings of 61%. Even if this drug is covered by Medicare or your insurance, we recommend you compare prices. The WebMDRx coupon or cash price may be less than your co-pay.\r\n",
       "\t\t\t\t</td>\n",
       "    </tr>\n",
       "    <tr>\n",
       "      <th id=\"T_5b97d_level0_row3\" class=\"row_heading level0 row3\" >3</th>\n",
       "      <td id=\"T_5b97d_row3_col0\" class=\"data row3 col0\" >Acute Bacterial Sinusitis</td>\n",
       "      <td id=\"T_5b97d_row3_col1\" class=\"data row3 col1\" >Amoxicillin-Pot Clavulanate</td>\n",
       "      <td id=\"T_5b97d_row3_col2\" class=\"data row3 col2\" >On Label</td>\n",
       "      <td id=\"T_5b97d_row3_col3\" class=\"data row3 col3\" >RX</td>\n",
       "      <td id=\"T_5b97d_row3_col4\" class=\"data row3 col4\" >437 Reviews</td>\n",
       "      <td id=\"T_5b97d_row3_col5\" class=\"data row3 col5\" >3.260000</td>\n",
       "      <td id=\"T_5b97d_row3_col6\" class=\"data row3 col6\" >3.230000</td>\n",
       "      <td id=\"T_5b97d_row3_col7\" class=\"data row3 col7\" >2.420000</td>\n",
       "      <td id=\"T_5b97d_row3_col8\" class=\"data row3 col8\" >\r\n",
       "\t\t\t\t\tAmoxicillin/clavulanic acid is a combination penicillin-type antibiotic used to treat a wide variety of bacterial infections. This is a generic drug. You can buy amoxicillin-pot clavulanate at the discounted price of $20.62 by using the WebMDRx coupon. Even if this drug is covered by Medicare or your insurance, we recommend you compare prices. The WebMDRx coupon or cash price may be less than your co-pay.\r\n",
       "\t\t\t\t</td>\n",
       "    </tr>\n",
       "    <tr>\n",
       "      <th id=\"T_5b97d_level0_row4\" class=\"row_heading level0 row4\" >4</th>\n",
       "      <td id=\"T_5b97d_row4_col0\" class=\"data row4 col0\" >Acute Bacterial Sinusitis</td>\n",
       "      <td id=\"T_5b97d_row4_col1\" class=\"data row4 col1\" >Levofloxacin</td>\n",
       "      <td id=\"T_5b97d_row4_col2\" class=\"data row4 col2\" >On Label</td>\n",
       "      <td id=\"T_5b97d_row4_col3\" class=\"data row4 col3\" >RX</td>\n",
       "      <td id=\"T_5b97d_row4_col4\" class=\"data row4 col4\" >361 Reviews</td>\n",
       "      <td id=\"T_5b97d_row4_col5\" class=\"data row4 col5\" >2.440000</td>\n",
       "      <td id=\"T_5b97d_row4_col6\" class=\"data row4 col6\" >2.960000</td>\n",
       "      <td id=\"T_5b97d_row4_col7\" class=\"data row4 col7\" >1.680000</td>\n",
       "      <td id=\"T_5b97d_row4_col8\" class=\"data row4 col8\" >\r\n",
       "\t\t\t\t\tLevofloxacin is used to treat a variety of bacterial infections. This is a generic drug. The average cash price for 10 Tablet(s), 500mg each of the generic (levofloxacin) is $172.99. You can buy levofloxacin at the discounted price of $47.08 by using the WebMDRx coupon, a savings of 73%. Even if this drug is covered by Medicare or your insurance, we recommend you compare prices. The WebMDRx coupon or cash price may be less than your co-pay.\r\n",
       "\t\t\t\t</td>\n",
       "    </tr>\n",
       "  </tbody>\n",
       "</table>\n"
      ],
      "text/plain": [
       "<pandas.io.formats.style.Styler at 0x299df565610>"
      ]
     },
     "execution_count": 3,
     "metadata": {},
     "output_type": "execute_result"
    }
   ],
   "source": [
    "df.head().style.background_gradient(cmap='rainbow')"
   ]
  },
  {
   "cell_type": "code",
   "execution_count": 4,
   "id": "2869dc54-5f13-49b3-816f-5230ff4c7950",
   "metadata": {},
   "outputs": [
    {
     "data": {
      "text/html": [
       "<style type=\"text/css\">\n",
       "#T_d6f81_row0_col5, #T_d6f81_row4_col6 {\n",
       "  background-color: #ffae5e;\n",
       "  color: #000000;\n",
       "}\n",
       "#T_d6f81_row0_col6, #T_d6f81_row2_col5, #T_d6f81_row2_col7 {\n",
       "  background-color: #8000ff;\n",
       "  color: #f1f1f1;\n",
       "}\n",
       "#T_d6f81_row0_col7 {\n",
       "  background-color: #1e91f3;\n",
       "  color: #f1f1f1;\n",
       "}\n",
       "#T_d6f81_row1_col5 {\n",
       "  background-color: #ff0905;\n",
       "  color: #f1f1f1;\n",
       "}\n",
       "#T_d6f81_row1_col6, #T_d6f81_row1_col7, #T_d6f81_row3_col5 {\n",
       "  background-color: #ff0000;\n",
       "  color: #f1f1f1;\n",
       "}\n",
       "#T_d6f81_row2_col6 {\n",
       "  background-color: #76ffb9;\n",
       "  color: #000000;\n",
       "}\n",
       "#T_d6f81_row3_col6 {\n",
       "  background-color: #ff3219;\n",
       "  color: #f1f1f1;\n",
       "}\n",
       "#T_d6f81_row3_col7 {\n",
       "  background-color: #ff2211;\n",
       "  color: #f1f1f1;\n",
       "}\n",
       "#T_d6f81_row4_col5 {\n",
       "  background-color: #07bbea;\n",
       "  color: #000000;\n",
       "}\n",
       "#T_d6f81_row4_col7 {\n",
       "  background-color: #208ef4;\n",
       "  color: #f1f1f1;\n",
       "}\n",
       "</style>\n",
       "<table id=\"T_d6f81\">\n",
       "  <thead>\n",
       "    <tr>\n",
       "      <th class=\"blank level0\" >&nbsp;</th>\n",
       "      <th id=\"T_d6f81_level0_col0\" class=\"col_heading level0 col0\" >Condition</th>\n",
       "      <th id=\"T_d6f81_level0_col1\" class=\"col_heading level0 col1\" >Drug</th>\n",
       "      <th id=\"T_d6f81_level0_col2\" class=\"col_heading level0 col2\" >Indication</th>\n",
       "      <th id=\"T_d6f81_level0_col3\" class=\"col_heading level0 col3\" >Type</th>\n",
       "      <th id=\"T_d6f81_level0_col4\" class=\"col_heading level0 col4\" >Reviews</th>\n",
       "      <th id=\"T_d6f81_level0_col5\" class=\"col_heading level0 col5\" >Effective</th>\n",
       "      <th id=\"T_d6f81_level0_col6\" class=\"col_heading level0 col6\" >EaseOfUse</th>\n",
       "      <th id=\"T_d6f81_level0_col7\" class=\"col_heading level0 col7\" >Satisfaction</th>\n",
       "      <th id=\"T_d6f81_level0_col8\" class=\"col_heading level0 col8\" >Information</th>\n",
       "    </tr>\n",
       "  </thead>\n",
       "  <tbody>\n",
       "    <tr>\n",
       "      <th id=\"T_d6f81_level0_row0\" class=\"row_heading level0 row0\" >100521</th>\n",
       "      <td id=\"T_d6f81_row0_col0\" class=\"data row0 col0\" >Bacterial Urinary Tract Infection</td>\n",
       "      <td id=\"T_d6f81_row0_col1\" class=\"data row0 col1\" >Trimethoprim</td>\n",
       "      <td id=\"T_d6f81_row0_col2\" class=\"data row0 col2\" >On Label</td>\n",
       "      <td id=\"T_d6f81_row0_col3\" class=\"data row0 col3\" >RX</td>\n",
       "      <td id=\"T_d6f81_row0_col4\" class=\"data row0 col4\" >3 Reviews</td>\n",
       "      <td id=\"T_d6f81_row0_col5\" class=\"data row0 col5\" >4.496762</td>\n",
       "      <td id=\"T_d6f81_row0_col6\" class=\"data row0 col6\" >2.965034</td>\n",
       "      <td id=\"T_d6f81_row0_col7\" class=\"data row0 col7\" >3.030866</td>\n",
       "      <td id=\"T_d6f81_row0_col8\" class=\"data row0 col8\" >\r\n",
       "\t\t\t\t\t This is a generic drug. The average cash price for 30 Tablet(s), 100mg  each, is $17.69. You can buy trimethoprim at the discounted price of $10.92 by using the WebMDRx coupon, a savings of 38%. Even if this drug is covered by Medicare or your insurance, we recommend you compare prices. The WebMDRx coupon or cash price may be less than your co-pay.\r\n",
       "\t\t\t\t</td>\n",
       "    </tr>\n",
       "    <tr>\n",
       "      <th id=\"T_d6f81_level0_row1\" class=\"row_heading level0 row1\" >100522</th>\n",
       "      <td id=\"T_d6f81_row1_col0\" class=\"data row1 col0\" >sore throat</td>\n",
       "      <td id=\"T_d6f81_row1_col1\" class=\"data row1 col1\" >Chlorpheniram-DM-Acetaminophen</td>\n",
       "      <td id=\"T_d6f81_row1_col2\" class=\"data row1 col2\" >On Label</td>\n",
       "      <td id=\"T_d6f81_row1_col3\" class=\"data row1 col3\" >OTC</td>\n",
       "      <td id=\"T_d6f81_row1_col4\" class=\"data row1 col4\" >8 Reviews</td>\n",
       "      <td id=\"T_d6f81_row1_col5\" class=\"data row1 col5\" >4.987197</td>\n",
       "      <td id=\"T_d6f81_row1_col6\" class=\"data row1 col6\" >4.961630</td>\n",
       "      <td id=\"T_d6f81_row1_col7\" class=\"data row1 col7\" >4.987840</td>\n",
       "      <td id=\"T_d6f81_row1_col8\" class=\"data row1 col8\" >\r\n",
       "\t\t\t\t\tThis combination medication is used to relieve coughs caused by the common cold, bronchitis, and other breathing illnesses. This is a brand name drug and a generic may be available. The average cash price for 1 Box, 20 tablets extended release 12 hour  each, is $19.99. You can buy Mucinex DM at the discounted price of $13.42 by using the WebMDRx coupon, a savings of 33%. Even if this drug is covered by Medicare or your insurance, we recommend you compare prices. The WebMDRx coupon or cash price may be less than your co-pay.\r\n",
       "\t\t\t\t</td>\n",
       "    </tr>\n",
       "    <tr>\n",
       "      <th id=\"T_d6f81_level0_row2\" class=\"row_heading level0 row2\" >100523</th>\n",
       "      <td id=\"T_d6f81_row2_col0\" class=\"data row2 col0\" >hypertension</td>\n",
       "      <td id=\"T_d6f81_row2_col1\" class=\"data row2 col1\" >Diltiazem Hcl</td>\n",
       "      <td id=\"T_d6f81_row2_col2\" class=\"data row2 col2\" >On Label</td>\n",
       "      <td id=\"T_d6f81_row2_col3\" class=\"data row2 col3\" >RX</td>\n",
       "      <td id=\"T_d6f81_row2_col4\" class=\"data row2 col4\" >79 Reviews</td>\n",
       "      <td id=\"T_d6f81_row2_col5\" class=\"data row2 col5\" >2.862674</td>\n",
       "      <td id=\"T_d6f81_row2_col6\" class=\"data row2 col6\" >3.929050</td>\n",
       "      <td id=\"T_d6f81_row2_col7\" class=\"data row2 col7\" >2.559644</td>\n",
       "      <td id=\"T_d6f81_row2_col8\" class=\"data row2 col8\" >\r\n",
       "\t\t\t\t\tDiltiazem is used to treat high blood pressure (hypertension) and prevent chest pain (angina). This is a generic drug. You can buy diltiazem hcl er coated beads at the discounted price of $13.49 by using the WebMDRx coupon. Even if this drug is covered by Medicare or your insurance, we recommend you compare prices. The WebMDRx coupon or cash price may be less than your co-pay.\r\n",
       "\t\t\t\t</td>\n",
       "    </tr>\n",
       "    <tr>\n",
       "      <th id=\"T_d6f81_level0_row3\" class=\"row_heading level0 row3\" >100524</th>\n",
       "      <td id=\"T_d6f81_row3_col0\" class=\"data row3 col0\" >fever</td>\n",
       "      <td id=\"T_d6f81_row3_col1\" class=\"data row3 col1\" >Acetaminophen-Caffeine</td>\n",
       "      <td id=\"T_d6f81_row3_col2\" class=\"data row3 col2\" >On Label</td>\n",
       "      <td id=\"T_d6f81_row3_col3\" class=\"data row3 col3\" >OTC</td>\n",
       "      <td id=\"T_d6f81_row3_col4\" class=\"data row3 col4\" >11 Reviews</td>\n",
       "      <td id=\"T_d6f81_row3_col5\" class=\"data row3 col5\" >5.015277</td>\n",
       "      <td id=\"T_d6f81_row3_col6\" class=\"data row3 col6\" >4.833396</td>\n",
       "      <td id=\"T_d6f81_row3_col7\" class=\"data row3 col7\" >4.882666</td>\n",
       "      <td id=\"T_d6f81_row3_col8\" class=\"data row3 col8\" >\r\n",
       "\t\t\t\t\t This is a brand name drug and a generic may be available. The average cash price for 1 Bottle, 24 tablets  each, is $9.99. You can buy Excedrin Tension Headache at the discounted price of $6.01 by using the WebMDRx coupon, a savings of 40%. Even if this drug is covered by Medicare or your insurance, we recommend you compare prices. The WebMDRx coupon or cash price may be less than your co-pay.\r\n",
       "\t\t\t\t</td>\n",
       "    </tr>\n",
       "    <tr>\n",
       "      <th id=\"T_d6f81_level0_row4\" class=\"row_heading level0 row4\" >100525</th>\n",
       "      <td id=\"T_d6f81_row4_col0\" class=\"data row4 col0\" >depression</td>\n",
       "      <td id=\"T_d6f81_row4_col1\" class=\"data row4 col1\" >Imipramine Pamoate</td>\n",
       "      <td id=\"T_d6f81_row4_col2\" class=\"data row4 col2\" >On Label</td>\n",
       "      <td id=\"T_d6f81_row4_col3\" class=\"data row4 col3\" >RX</td>\n",
       "      <td id=\"T_d6f81_row4_col4\" class=\"data row4 col4\" >16 Reviews</td>\n",
       "      <td id=\"T_d6f81_row4_col5\" class=\"data row4 col5\" >3.427728</td>\n",
       "      <td id=\"T_d6f81_row4_col6\" class=\"data row4 col6\" >4.482814</td>\n",
       "      <td id=\"T_d6f81_row4_col7\" class=\"data row4 col7\" >3.023786</td>\n",
       "      <td id=\"T_d6f81_row4_col8\" class=\"data row4 col8\" >\r\n",
       "\t\t\t\t\tThis medication is used to treat depression. This is a generic drug. The average cash price for 30 Capsule(s), 75mg  each, is $419.99. You can buy imipramine pamoate at the discounted price of $183.36 by using the WebMDRx coupon, a savings of 56%. Even if this drug is covered by Medicare or your insurance, we recommend you compare prices. The WebMDRx coupon or cash price may be less than your co-pay.\r\n",
       "\t\t\t\t</td>\n",
       "    </tr>\n",
       "  </tbody>\n",
       "</table>\n"
      ],
      "text/plain": [
       "<pandas.io.formats.style.Styler at 0x299df3acb60>"
      ]
     },
     "execution_count": 4,
     "metadata": {},
     "output_type": "execute_result"
    }
   ],
   "source": [
    "df.tail().style.background_gradient(cmap='rainbow')"
   ]
  },
  {
   "cell_type": "code",
   "execution_count": 5,
   "id": "7b82ca3a-c64f-4a48-8b4c-c4f495c580cb",
   "metadata": {},
   "outputs": [
    {
     "data": {
      "text/plain": [
       "(100526, 9)"
      ]
     },
     "execution_count": 5,
     "metadata": {},
     "output_type": "execute_result"
    }
   ],
   "source": [
    "df.shape"
   ]
  },
  {
   "cell_type": "code",
   "execution_count": 6,
   "id": "d7dd7220-4faa-4d8d-9360-e093d2d8f2bc",
   "metadata": {},
   "outputs": [
    {
     "name": "stdout",
     "output_type": "stream",
     "text": [
      "<class 'pandas.core.frame.DataFrame'>\n",
      "RangeIndex: 100526 entries, 0 to 100525\n",
      "Data columns (total 9 columns):\n",
      " #   Column        Non-Null Count   Dtype  \n",
      "---  ------        --------------   -----  \n",
      " 0   Condition     100526 non-null  object \n",
      " 1   Drug          100526 non-null  object \n",
      " 2   Indication    100526 non-null  object \n",
      " 3   Type          100526 non-null  object \n",
      " 4   Reviews       100526 non-null  object \n",
      " 5   Effective     100526 non-null  float64\n",
      " 6   EaseOfUse     100526 non-null  float64\n",
      " 7   Satisfaction  100526 non-null  float64\n",
      " 8   Information   100526 non-null  object \n",
      "dtypes: float64(3), object(6)\n",
      "memory usage: 6.9+ MB\n"
     ]
    }
   ],
   "source": [
    "df.info()"
   ]
  },
  {
   "cell_type": "code",
   "execution_count": 7,
   "id": "a1163bba-0b98-4389-9e3e-cc3e0faff2d7",
   "metadata": {},
   "outputs": [
    {
     "data": {
      "text/html": [
       "<style type=\"text/css\">\n",
       "#T_ee4e7_row0_col0, #T_ee4e7_row1_col0, #T_ee4e7_row1_col2, #T_ee4e7_row1_col7, #T_ee4e7_row2_col0, #T_ee4e7_row2_col1, #T_ee4e7_row2_col3, #T_ee4e7_row2_col4, #T_ee4e7_row2_col5, #T_ee4e7_row2_col6 {\n",
       "  background-color: #8000ff;\n",
       "  color: #f1f1f1;\n",
       "}\n",
       "#T_ee4e7_row0_col1 {\n",
       "  background-color: #72febb;\n",
       "  color: #000000;\n",
       "}\n",
       "#T_ee4e7_row0_col2 {\n",
       "  background-color: #54f6cb;\n",
       "  color: #000000;\n",
       "}\n",
       "#T_ee4e7_row0_col3 {\n",
       "  background-color: #6c1fff;\n",
       "  color: #f1f1f1;\n",
       "}\n",
       "#T_ee4e7_row0_col4 {\n",
       "  background-color: #96fca7;\n",
       "  color: #000000;\n",
       "}\n",
       "#T_ee4e7_row0_col5 {\n",
       "  background-color: #b6f193;\n",
       "  color: #000000;\n",
       "}\n",
       "#T_ee4e7_row0_col6 {\n",
       "  background-color: #42edd3;\n",
       "  color: #000000;\n",
       "}\n",
       "#T_ee4e7_row0_col7, #T_ee4e7_row1_col1, #T_ee4e7_row1_col3, #T_ee4e7_row1_col4, #T_ee4e7_row1_col5, #T_ee4e7_row1_col6, #T_ee4e7_row2_col2 {\n",
       "  background-color: #ff0000;\n",
       "  color: #f1f1f1;\n",
       "}\n",
       "#T_ee4e7_row2_col7 {\n",
       "  background-color: #38e7d7;\n",
       "  color: #000000;\n",
       "}\n",
       "</style>\n",
       "<table id=\"T_ee4e7\">\n",
       "  <thead>\n",
       "    <tr>\n",
       "      <th class=\"blank level0\" >&nbsp;</th>\n",
       "      <th id=\"T_ee4e7_level0_col0\" class=\"col_heading level0 col0\" >count</th>\n",
       "      <th id=\"T_ee4e7_level0_col1\" class=\"col_heading level0 col1\" >mean</th>\n",
       "      <th id=\"T_ee4e7_level0_col2\" class=\"col_heading level0 col2\" >std</th>\n",
       "      <th id=\"T_ee4e7_level0_col3\" class=\"col_heading level0 col3\" >min</th>\n",
       "      <th id=\"T_ee4e7_level0_col4\" class=\"col_heading level0 col4\" >25%</th>\n",
       "      <th id=\"T_ee4e7_level0_col5\" class=\"col_heading level0 col5\" >50%</th>\n",
       "      <th id=\"T_ee4e7_level0_col6\" class=\"col_heading level0 col6\" >75%</th>\n",
       "      <th id=\"T_ee4e7_level0_col7\" class=\"col_heading level0 col7\" >max</th>\n",
       "    </tr>\n",
       "  </thead>\n",
       "  <tbody>\n",
       "    <tr>\n",
       "      <th id=\"T_ee4e7_level0_row0\" class=\"row_heading level0 row0\" >Effective</th>\n",
       "      <td id=\"T_ee4e7_row0_col0\" class=\"data row0 col0\" >100526.000000</td>\n",
       "      <td id=\"T_ee4e7_row0_col1\" class=\"data row0 col1\" >3.537109</td>\n",
       "      <td id=\"T_ee4e7_row0_col2\" class=\"data row0 col2\" >1.122137</td>\n",
       "      <td id=\"T_ee4e7_row0_col3\" class=\"data row0 col3\" >0.950007</td>\n",
       "      <td id=\"T_ee4e7_row0_col4\" class=\"data row0 col4\" >2.990223</td>\n",
       "      <td id=\"T_ee4e7_row0_col5\" class=\"data row0 col5\" >3.700000</td>\n",
       "      <td id=\"T_ee4e7_row0_col6\" class=\"data row0 col6\" >4.328519</td>\n",
       "      <td id=\"T_ee4e7_row0_col7\" class=\"data row0 col7\" >5.049998</td>\n",
       "    </tr>\n",
       "    <tr>\n",
       "      <th id=\"T_ee4e7_level0_row1\" class=\"row_heading level0 row1\" >EaseOfUse</th>\n",
       "      <td id=\"T_ee4e7_row1_col0\" class=\"data row1 col0\" >100526.000000</td>\n",
       "      <td id=\"T_ee4e7_row1_col1\" class=\"data row1 col1\" >3.935037</td>\n",
       "      <td id=\"T_ee4e7_row1_col2\" class=\"data row1 col2\" >1.048564</td>\n",
       "      <td id=\"T_ee4e7_row1_col3\" class=\"data row1 col3\" >0.950036</td>\n",
       "      <td id=\"T_ee4e7_row1_col4\" class=\"data row1 col4\" >3.511813</td>\n",
       "      <td id=\"T_ee4e7_row1_col5\" class=\"data row1 col5\" >4.086120</td>\n",
       "      <td id=\"T_ee4e7_row1_col6\" class=\"data row1 col6\" >4.818468</td>\n",
       "      <td id=\"T_ee4e7_row1_col7\" class=\"data row1 col7\" >5.049992</td>\n",
       "    </tr>\n",
       "    <tr>\n",
       "      <th id=\"T_ee4e7_level0_row2\" class=\"row_heading level0 row2\" >Satisfaction</th>\n",
       "      <td id=\"T_ee4e7_row2_col0\" class=\"data row2 col0\" >100526.000000</td>\n",
       "      <td id=\"T_ee4e7_row2_col1\" class=\"data row2 col1\" >3.178326</td>\n",
       "      <td id=\"T_ee4e7_row2_col2\" class=\"data row2 col2\" >1.225872</td>\n",
       "      <td id=\"T_ee4e7_row2_col3\" class=\"data row2 col3\" >0.950006</td>\n",
       "      <td id=\"T_ee4e7_row2_col4\" class=\"data row2 col4\" >2.365056</td>\n",
       "      <td id=\"T_ee4e7_row2_col5\" class=\"data row2 col5\" >3.100553</td>\n",
       "      <td id=\"T_ee4e7_row2_col6\" class=\"data row2 col6\" >4.024897</td>\n",
       "      <td id=\"T_ee4e7_row2_col7\" class=\"data row2 col7\" >5.049994</td>\n",
       "    </tr>\n",
       "  </tbody>\n",
       "</table>\n"
      ],
      "text/plain": [
       "<pandas.io.formats.style.Styler at 0x299dfa9b590>"
      ]
     },
     "execution_count": 7,
     "metadata": {},
     "output_type": "execute_result"
    }
   ],
   "source": [
    "df.describe().T.style.background_gradient(cmap='rainbow')"
   ]
  },
  {
   "cell_type": "code",
   "execution_count": 8,
   "id": "6b1239de-7090-42cc-96a4-c45e0e6bc86b",
   "metadata": {},
   "outputs": [
    {
     "data": {
      "text/html": [
       "<div>\n",
       "<style scoped>\n",
       "    .dataframe tbody tr th:only-of-type {\n",
       "        vertical-align: middle;\n",
       "    }\n",
       "\n",
       "    .dataframe tbody tr th {\n",
       "        vertical-align: top;\n",
       "    }\n",
       "\n",
       "    .dataframe thead th {\n",
       "        text-align: right;\n",
       "    }\n",
       "</style>\n",
       "<table border=\"1\" class=\"dataframe\">\n",
       "  <thead>\n",
       "    <tr style=\"text-align: right;\">\n",
       "      <th></th>\n",
       "      <th>Condition</th>\n",
       "      <th>Drug</th>\n",
       "      <th>Indication</th>\n",
       "      <th>Type</th>\n",
       "      <th>Reviews</th>\n",
       "      <th>Effective</th>\n",
       "      <th>EaseOfUse</th>\n",
       "      <th>Satisfaction</th>\n",
       "      <th>Information</th>\n",
       "    </tr>\n",
       "  </thead>\n",
       "  <tbody>\n",
       "    <tr>\n",
       "      <th>0</th>\n",
       "      <td>False</td>\n",
       "      <td>False</td>\n",
       "      <td>False</td>\n",
       "      <td>False</td>\n",
       "      <td>False</td>\n",
       "      <td>False</td>\n",
       "      <td>False</td>\n",
       "      <td>False</td>\n",
       "      <td>False</td>\n",
       "    </tr>\n",
       "    <tr>\n",
       "      <th>1</th>\n",
       "      <td>False</td>\n",
       "      <td>False</td>\n",
       "      <td>False</td>\n",
       "      <td>False</td>\n",
       "      <td>False</td>\n",
       "      <td>False</td>\n",
       "      <td>False</td>\n",
       "      <td>False</td>\n",
       "      <td>False</td>\n",
       "    </tr>\n",
       "    <tr>\n",
       "      <th>2</th>\n",
       "      <td>False</td>\n",
       "      <td>False</td>\n",
       "      <td>False</td>\n",
       "      <td>False</td>\n",
       "      <td>False</td>\n",
       "      <td>False</td>\n",
       "      <td>False</td>\n",
       "      <td>False</td>\n",
       "      <td>False</td>\n",
       "    </tr>\n",
       "    <tr>\n",
       "      <th>3</th>\n",
       "      <td>False</td>\n",
       "      <td>False</td>\n",
       "      <td>False</td>\n",
       "      <td>False</td>\n",
       "      <td>False</td>\n",
       "      <td>False</td>\n",
       "      <td>False</td>\n",
       "      <td>False</td>\n",
       "      <td>False</td>\n",
       "    </tr>\n",
       "    <tr>\n",
       "      <th>4</th>\n",
       "      <td>False</td>\n",
       "      <td>False</td>\n",
       "      <td>False</td>\n",
       "      <td>False</td>\n",
       "      <td>False</td>\n",
       "      <td>False</td>\n",
       "      <td>False</td>\n",
       "      <td>False</td>\n",
       "      <td>False</td>\n",
       "    </tr>\n",
       "    <tr>\n",
       "      <th>...</th>\n",
       "      <td>...</td>\n",
       "      <td>...</td>\n",
       "      <td>...</td>\n",
       "      <td>...</td>\n",
       "      <td>...</td>\n",
       "      <td>...</td>\n",
       "      <td>...</td>\n",
       "      <td>...</td>\n",
       "      <td>...</td>\n",
       "    </tr>\n",
       "    <tr>\n",
       "      <th>100521</th>\n",
       "      <td>False</td>\n",
       "      <td>False</td>\n",
       "      <td>False</td>\n",
       "      <td>False</td>\n",
       "      <td>False</td>\n",
       "      <td>False</td>\n",
       "      <td>False</td>\n",
       "      <td>False</td>\n",
       "      <td>False</td>\n",
       "    </tr>\n",
       "    <tr>\n",
       "      <th>100522</th>\n",
       "      <td>False</td>\n",
       "      <td>False</td>\n",
       "      <td>False</td>\n",
       "      <td>False</td>\n",
       "      <td>False</td>\n",
       "      <td>False</td>\n",
       "      <td>False</td>\n",
       "      <td>False</td>\n",
       "      <td>False</td>\n",
       "    </tr>\n",
       "    <tr>\n",
       "      <th>100523</th>\n",
       "      <td>False</td>\n",
       "      <td>False</td>\n",
       "      <td>False</td>\n",
       "      <td>False</td>\n",
       "      <td>False</td>\n",
       "      <td>False</td>\n",
       "      <td>False</td>\n",
       "      <td>False</td>\n",
       "      <td>False</td>\n",
       "    </tr>\n",
       "    <tr>\n",
       "      <th>100524</th>\n",
       "      <td>False</td>\n",
       "      <td>False</td>\n",
       "      <td>False</td>\n",
       "      <td>False</td>\n",
       "      <td>False</td>\n",
       "      <td>False</td>\n",
       "      <td>False</td>\n",
       "      <td>False</td>\n",
       "      <td>False</td>\n",
       "    </tr>\n",
       "    <tr>\n",
       "      <th>100525</th>\n",
       "      <td>False</td>\n",
       "      <td>False</td>\n",
       "      <td>False</td>\n",
       "      <td>False</td>\n",
       "      <td>False</td>\n",
       "      <td>False</td>\n",
       "      <td>False</td>\n",
       "      <td>False</td>\n",
       "      <td>False</td>\n",
       "    </tr>\n",
       "  </tbody>\n",
       "</table>\n",
       "<p>100526 rows × 9 columns</p>\n",
       "</div>"
      ],
      "text/plain": [
       "        Condition   Drug  Indication   Type  Reviews  Effective  EaseOfUse  \\\n",
       "0           False  False       False  False    False      False      False   \n",
       "1           False  False       False  False    False      False      False   \n",
       "2           False  False       False  False    False      False      False   \n",
       "3           False  False       False  False    False      False      False   \n",
       "4           False  False       False  False    False      False      False   \n",
       "...           ...    ...         ...    ...      ...        ...        ...   \n",
       "100521      False  False       False  False    False      False      False   \n",
       "100522      False  False       False  False    False      False      False   \n",
       "100523      False  False       False  False    False      False      False   \n",
       "100524      False  False       False  False    False      False      False   \n",
       "100525      False  False       False  False    False      False      False   \n",
       "\n",
       "        Satisfaction  Information  \n",
       "0              False        False  \n",
       "1              False        False  \n",
       "2              False        False  \n",
       "3              False        False  \n",
       "4              False        False  \n",
       "...              ...          ...  \n",
       "100521         False        False  \n",
       "100522         False        False  \n",
       "100523         False        False  \n",
       "100524         False        False  \n",
       "100525         False        False  \n",
       "\n",
       "[100526 rows x 9 columns]"
      ]
     },
     "execution_count": 8,
     "metadata": {},
     "output_type": "execute_result"
    }
   ],
   "source": [
    "df.isnull()"
   ]
  },
  {
   "cell_type": "code",
   "execution_count": 9,
   "id": "a0b7e094-057e-4b41-a55d-682f53962cec",
   "metadata": {},
   "outputs": [
    {
     "data": {
      "text/plain": [
       "Condition       0\n",
       "Drug            0\n",
       "Indication      0\n",
       "Type            0\n",
       "Reviews         0\n",
       "Effective       0\n",
       "EaseOfUse       0\n",
       "Satisfaction    0\n",
       "Information     0\n",
       "dtype: int64"
      ]
     },
     "execution_count": 9,
     "metadata": {},
     "output_type": "execute_result"
    }
   ],
   "source": [
    "df.isnull().sum()"
   ]
  },
  {
   "cell_type": "code",
   "execution_count": 10,
   "id": "a8a8303c-9058-4074-ba70-18f5e8d559d5",
   "metadata": {},
   "outputs": [
    {
     "data": {
      "text/plain": [
       "['Condition',\n",
       " 'Drug',\n",
       " 'Indication',\n",
       " 'Type',\n",
       " 'Reviews',\n",
       " 'Effective',\n",
       " 'EaseOfUse',\n",
       " 'Satisfaction',\n",
       " 'Information']"
      ]
     },
     "execution_count": 10,
     "metadata": {},
     "output_type": "execute_result"
    }
   ],
   "source": [
    "list(df.columns)"
   ]
  },
  {
   "cell_type": "code",
   "execution_count": 11,
   "id": "fda5b5ea-dc55-43e2-9138-c6610728bd87",
   "metadata": {},
   "outputs": [
    {
     "data": {
      "text/plain": [
       "Condition        object\n",
       "Drug             object\n",
       "Indication       object\n",
       "Type             object\n",
       "Reviews          object\n",
       "Effective       float64\n",
       "EaseOfUse       float64\n",
       "Satisfaction    float64\n",
       "Information      object\n",
       "dtype: object"
      ]
     },
     "execution_count": 11,
     "metadata": {},
     "output_type": "execute_result"
    }
   ],
   "source": [
    "df.dtypes"
   ]
  },
  {
   "cell_type": "code",
   "execution_count": 12,
   "id": "ce0b884a-d157-49fc-b481-696d3c70d015",
   "metadata": {},
   "outputs": [
    {
     "data": {
      "text/plain": [
       "array([dtype('O'), dtype('O'), dtype('O'), dtype('O'), dtype('O'),\n",
       "       dtype('float64'), dtype('float64'), dtype('float64'), dtype('O')],\n",
       "      dtype=object)"
      ]
     },
     "execution_count": 12,
     "metadata": {},
     "output_type": "execute_result"
    }
   ],
   "source": [
    "df.dtypes.values"
   ]
  },
  {
   "cell_type": "code",
   "execution_count": 13,
   "id": "c8a7293f-1673-48be-a08d-6a3aef812612",
   "metadata": {},
   "outputs": [
    {
     "data": {
      "text/plain": [
       "[dtype('O'),\n",
       " dtype('O'),\n",
       " dtype('O'),\n",
       " dtype('O'),\n",
       " dtype('O'),\n",
       " dtype('float64'),\n",
       " dtype('float64'),\n",
       " dtype('float64'),\n",
       " dtype('O')]"
      ]
     },
     "execution_count": 13,
     "metadata": {},
     "output_type": "execute_result"
    }
   ],
   "source": [
    "df.dtypes.tolist()"
   ]
  },
  {
   "cell_type": "code",
   "execution_count": 14,
   "id": "f68c857f-c548-4f79-b91c-9525ac9bc124",
   "metadata": {},
   "outputs": [
    {
     "data": {
      "text/plain": [
       "['object',\n",
       " 'object',\n",
       " 'object',\n",
       " 'object',\n",
       " 'object',\n",
       " 'float64',\n",
       " 'float64',\n",
       " 'float64',\n",
       " 'object']"
      ]
     },
     "execution_count": 14,
     "metadata": {},
     "output_type": "execute_result"
    }
   ],
   "source": [
    "[dtype.name for dtype in df.dtypes]"
   ]
  },
  {
   "cell_type": "code",
   "execution_count": 15,
   "id": "1f876703-1c5b-448b-955d-358895e757d0",
   "metadata": {},
   "outputs": [
    {
     "name": "stdout",
     "output_type": "stream",
     "text": [
      "object\n",
      "object\n",
      "object\n",
      "object\n",
      "object\n",
      "float64\n",
      "float64\n",
      "float64\n",
      "object\n"
     ]
    }
   ],
   "source": [
    "data_type_string = \"\\n\".join([dtype.name for dtype in df.dtypes])\n",
    "print(data_type_string)"
   ]
  },
  {
   "cell_type": "code",
   "execution_count": 16,
   "id": "6aeefbdd-b480-45b6-8f76-6d1fa811b385",
   "metadata": {},
   "outputs": [
    {
     "data": {
      "text/plain": [
       "0"
      ]
     },
     "execution_count": 16,
     "metadata": {},
     "output_type": "execute_result"
    }
   ],
   "source": [
    "df.duplicated().sum()"
   ]
  },
  {
   "cell_type": "code",
   "execution_count": 17,
   "id": "626d6a43-9cc5-43ab-b86b-1a7638803507",
   "metadata": {},
   "outputs": [
    {
     "data": {
      "text/plain": [
       "Index(['Condition', 'Drug', 'Indication', 'Type', 'Reviews', 'Effective',\n",
       "       'EaseOfUse', 'Satisfaction', 'Information'],\n",
       "      dtype='object')"
      ]
     },
     "execution_count": 17,
     "metadata": {},
     "output_type": "execute_result"
    }
   ],
   "source": [
    "df.columns"
   ]
  },
  {
   "cell_type": "code",
   "execution_count": 18,
   "id": "94978e7f-d87c-4ddf-9652-d0e07fd09580",
   "metadata": {},
   "outputs": [
    {
     "name": "stdout",
     "output_type": "stream",
     "text": [
      "We have 3 numerical features : ['Effective', 'EaseOfUse', 'Satisfaction']\n",
      "\n",
      "We have 6 categorical features : ['Condition', 'Drug', 'Indication', 'Type', 'Reviews', 'Information']\n"
     ]
    }
   ],
   "source": [
    "# define numerical & categorical columns\n",
    "numeric_features = [feature for feature in df.columns if df[feature].dtype != 'O']\n",
    "categorical_features = [feature for feature in df.columns if df[feature].dtype == 'O']\n",
    "\n",
    "# print columns\n",
    "print('We have {} numerical features : {}'.format(len(numeric_features), numeric_features))\n",
    "print('\\nWe have {} categorical features : {}'.format(len(categorical_features), categorical_features))"
   ]
  },
  {
   "cell_type": "code",
   "execution_count": 19,
   "id": "60e2e108-75d4-4823-969c-7fcf21975840",
   "metadata": {},
   "outputs": [
    {
     "data": {
      "text/plain": [
       "Condition        object\n",
       "Drug             object\n",
       "Indication       object\n",
       "Type             object\n",
       "Reviews          object\n",
       "Effective       float64\n",
       "EaseOfUse       float64\n",
       "Satisfaction    float64\n",
       "Information      object\n",
       "dtype: object"
      ]
     },
     "execution_count": 19,
     "metadata": {},
     "output_type": "execute_result"
    }
   ],
   "source": [
    "df.dtypes"
   ]
  },
  {
   "cell_type": "code",
   "execution_count": 20,
   "id": "c6b3e911-96f8-4a55-9ac9-eb89596bfc72",
   "metadata": {},
   "outputs": [
    {
     "data": {
      "text/html": [
       "<div>\n",
       "<style scoped>\n",
       "    .dataframe tbody tr th:only-of-type {\n",
       "        vertical-align: middle;\n",
       "    }\n",
       "\n",
       "    .dataframe tbody tr th {\n",
       "        vertical-align: top;\n",
       "    }\n",
       "\n",
       "    .dataframe thead th {\n",
       "        text-align: right;\n",
       "    }\n",
       "</style>\n",
       "<table border=\"1\" class=\"dataframe\">\n",
       "  <thead>\n",
       "    <tr style=\"text-align: right;\">\n",
       "      <th></th>\n",
       "      <th>Condition</th>\n",
       "      <th>Drug</th>\n",
       "      <th>Indication</th>\n",
       "      <th>Type</th>\n",
       "      <th>Reviews</th>\n",
       "      <th>Effective</th>\n",
       "      <th>EaseOfUse</th>\n",
       "      <th>Satisfaction</th>\n",
       "      <th>Information</th>\n",
       "    </tr>\n",
       "  </thead>\n",
       "  <tbody>\n",
       "    <tr>\n",
       "      <th>0</th>\n",
       "      <td>Acute Bacterial Sinusitis</td>\n",
       "      <td>Levofloxacin</td>\n",
       "      <td>On Label</td>\n",
       "      <td>RX</td>\n",
       "      <td>994 Reviews</td>\n",
       "      <td>2.52</td>\n",
       "      <td>3.01</td>\n",
       "      <td>1.84</td>\n",
       "      <td>\\r\\n\\t\\t\\t\\t\\tLevofloxacin is used to treat a ...</td>\n",
       "    </tr>\n",
       "  </tbody>\n",
       "</table>\n",
       "</div>"
      ],
      "text/plain": [
       "                   Condition          Drug Indication Type      Reviews  \\\n",
       "0  Acute Bacterial Sinusitis  Levofloxacin   On Label   RX  994 Reviews   \n",
       "\n",
       "   Effective  EaseOfUse  Satisfaction  \\\n",
       "0       2.52       3.01          1.84   \n",
       "\n",
       "                                         Information  \n",
       "0  \\r\\n\\t\\t\\t\\t\\tLevofloxacin is used to treat a ...  "
      ]
     },
     "execution_count": 20,
     "metadata": {},
     "output_type": "execute_result"
    }
   ],
   "source": [
    "df.head(1)"
   ]
  },
  {
   "cell_type": "code",
   "execution_count": null,
   "id": "803e378f-74af-42bb-ba43-c2948600e3fa",
   "metadata": {},
   "outputs": [],
   "source": []
  }
 ],
 "metadata": {
  "kernelspec": {
   "display_name": "Python 3 (ipykernel)",
   "language": "python",
   "name": "python3"
  },
  "language_info": {
   "codemirror_mode": {
    "name": "ipython",
    "version": 3
   },
   "file_extension": ".py",
   "mimetype": "text/x-python",
   "name": "python",
   "nbconvert_exporter": "python",
   "pygments_lexer": "ipython3",
   "version": "3.12.7"
  }
 },
 "nbformat": 4,
 "nbformat_minor": 5
}
